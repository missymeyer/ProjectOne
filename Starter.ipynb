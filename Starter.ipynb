{
 "cells": [
  {
   "cell_type": "code",
   "execution_count": 1,
   "metadata": {},
   "outputs": [],
   "source": [
    "# Dependencies\n",
    "import pandas as pd"
   ]
  },
  {
   "cell_type": "code",
   "execution_count": 2,
   "metadata": {},
   "outputs": [],
   "source": [
    "# Source files\n",
    "attendance_raw = 'Resources/national_park_attendance_Prev3Y.xlsx'\n",
    "focus_parks_csv = 'Resources/califlo.csv'\n",
    "\n",
    "# Read data and store in dataframe\n",
    "attendance_data = pd.read_excel(attendance_raw)\n",
    "focus_parks = pd.read_csv(focus_parks_csv)\n"
   ]
  },
  {
   "cell_type": "code",
   "execution_count": 4,
   "metadata": {},
   "outputs": [
    {
     "data": {
      "text/html": [
       "<div>\n",
       "<style scoped>\n",
       "    .dataframe tbody tr th:only-of-type {\n",
       "        vertical-align: middle;\n",
       "    }\n",
       "\n",
       "    .dataframe tbody tr th {\n",
       "        vertical-align: top;\n",
       "    }\n",
       "\n",
       "    .dataframe thead th {\n",
       "        text-align: right;\n",
       "    }\n",
       "</style>\n",
       "<table border=\"1\" class=\"dataframe\">\n",
       "  <thead>\n",
       "    <tr style=\"text-align: right;\">\n",
       "      <th></th>\n",
       "      <th>Park</th>\n",
       "      <th>Code</th>\n",
       "      <th>Month</th>\n",
       "      <th>Visitors</th>\n",
       "    </tr>\n",
       "  </thead>\n",
       "  <tbody>\n",
       "    <tr>\n",
       "      <th>0</th>\n",
       "      <td>Abraham Lincoln Birthplace NHP</td>\n",
       "      <td>ABLI</td>\n",
       "      <td>2020-01-01 00:00:00</td>\n",
       "      <td>6911.0</td>\n",
       "    </tr>\n",
       "    <tr>\n",
       "      <th>1</th>\n",
       "      <td>Acadia NP</td>\n",
       "      <td>ACAD</td>\n",
       "      <td>2020-01-01 00:00:00</td>\n",
       "      <td>12640.0</td>\n",
       "    </tr>\n",
       "    <tr>\n",
       "      <th>2</th>\n",
       "      <td>Adams NHP</td>\n",
       "      <td>ADAM</td>\n",
       "      <td>2020-01-01 00:00:00</td>\n",
       "      <td>300.0</td>\n",
       "    </tr>\n",
       "    <tr>\n",
       "      <th>3</th>\n",
       "      <td>African Burial Ground NM</td>\n",
       "      <td>AFBG</td>\n",
       "      <td>2020-01-01 00:00:00</td>\n",
       "      <td>4279.0</td>\n",
       "    </tr>\n",
       "    <tr>\n",
       "      <th>4</th>\n",
       "      <td>Agate Fossil Beds NM</td>\n",
       "      <td>AGFO</td>\n",
       "      <td>2020-01-01 00:00:00</td>\n",
       "      <td>107.0</td>\n",
       "    </tr>\n",
       "  </tbody>\n",
       "</table>\n",
       "</div>"
      ],
      "text/plain": [
       "                             Park  Code                Month  Visitors\n",
       "0  Abraham Lincoln Birthplace NHP  ABLI  2020-01-01 00:00:00    6911.0\n",
       "1                       Acadia NP  ACAD  2020-01-01 00:00:00   12640.0\n",
       "2                       Adams NHP  ADAM  2020-01-01 00:00:00     300.0\n",
       "3        African Burial Ground NM  AFBG  2020-01-01 00:00:00    4279.0\n",
       "4            Agate Fossil Beds NM  AGFO  2020-01-01 00:00:00     107.0"
      ]
     },
     "execution_count": 4,
     "metadata": {},
     "output_type": "execute_result"
    }
   ],
   "source": [
    "attendance_data.head()"
   ]
  },
  {
   "cell_type": "code",
   "execution_count": 3,
   "metadata": {},
   "outputs": [
    {
     "data": {
      "text/html": [
       "<div>\n",
       "<style scoped>\n",
       "    .dataframe tbody tr th:only-of-type {\n",
       "        vertical-align: middle;\n",
       "    }\n",
       "\n",
       "    .dataframe tbody tr th {\n",
       "        vertical-align: top;\n",
       "    }\n",
       "\n",
       "    .dataframe thead th {\n",
       "        text-align: right;\n",
       "    }\n",
       "</style>\n",
       "<table border=\"1\" class=\"dataframe\">\n",
       "  <thead>\n",
       "    <tr style=\"text-align: right;\">\n",
       "      <th></th>\n",
       "      <th>National Park</th>\n",
       "      <th>Coordinates</th>\n",
       "    </tr>\n",
       "  </thead>\n",
       "  <tbody>\n",
       "    <tr>\n",
       "      <th>0</th>\n",
       "      <td>Biscayne</td>\n",
       "      <td>{'latitude': 25.65, 'longitude': -80.08}</td>\n",
       "    </tr>\n",
       "    <tr>\n",
       "      <th>1</th>\n",
       "      <td>Channel Islands</td>\n",
       "      <td>{'latitude': 34.01, 'longitude': -119.42}</td>\n",
       "    </tr>\n",
       "    <tr>\n",
       "      <th>2</th>\n",
       "      <td>Death Valley</td>\n",
       "      <td>{'latitude': 36.24, 'longitude': -116.82}</td>\n",
       "    </tr>\n",
       "    <tr>\n",
       "      <th>3</th>\n",
       "      <td>Dry Tortugas</td>\n",
       "      <td>{'latitude': 24.63, 'longitude': -82.87}</td>\n",
       "    </tr>\n",
       "    <tr>\n",
       "      <th>4</th>\n",
       "      <td>Everglades</td>\n",
       "      <td>{'latitude': 25.32, 'longitude': -80.93}</td>\n",
       "    </tr>\n",
       "  </tbody>\n",
       "</table>\n",
       "</div>"
      ],
      "text/plain": [
       "     National Park                                Coordinates\n",
       "0         Biscayne   {'latitude': 25.65, 'longitude': -80.08}\n",
       "1  Channel Islands  {'latitude': 34.01, 'longitude': -119.42}\n",
       "2     Death Valley  {'latitude': 36.24, 'longitude': -116.82}\n",
       "3     Dry Tortugas   {'latitude': 24.63, 'longitude': -82.87}\n",
       "4       Everglades   {'latitude': 25.32, 'longitude': -80.93}"
      ]
     },
     "execution_count": 3,
     "metadata": {},
     "output_type": "execute_result"
    }
   ],
   "source": [
    "focus_parks.head()"
   ]
  },
  {
   "cell_type": "code",
   "execution_count": null,
   "metadata": {},
   "outputs": [],
   "source": []
  }
 ],
 "metadata": {
  "kernelspec": {
   "display_name": "Python 3",
   "language": "python",
   "name": "python3"
  },
  "language_info": {
   "codemirror_mode": {
    "name": "ipython",
    "version": 3
   },
   "file_extension": ".py",
   "mimetype": "text/x-python",
   "name": "python",
   "nbconvert_exporter": "python",
   "pygments_lexer": "ipython3",
   "version": "3.8.5"
  }
 },
 "nbformat": 4,
 "nbformat_minor": 4
}
