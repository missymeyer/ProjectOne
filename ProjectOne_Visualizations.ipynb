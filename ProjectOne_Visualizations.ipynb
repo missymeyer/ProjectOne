{
 "cells": [
  {
   "cell_type": "markdown",
   "metadata": {},
   "source": [
    "# Project One - Visualizations\n"
   ]
  },
  {
   "cell_type": "code",
   "execution_count": 98,
   "metadata": {},
   "outputs": [],
   "source": [
    "# Dependencies\n",
    "import pandas as pd\n",
    "import requests\n",
    "import json\n",
    "import os\n",
    "import datetime\n",
    "import matplotlib.pyplot as plt\n",
    "import numpy as np\n",
    "\n",
    "# Google API Key\n",
    "from config import gkey\n"
   ]
  },
  {
   "cell_type": "code",
   "execution_count": 100,
   "metadata": {},
   "outputs": [],
   "source": [
    "# Source files\n",
    "visitors = 'Resources/Clean/Clean_ParkData.xlsx'\n",
    "park_info = 'Resources/Clean/Clean_ParkGeocoordinates.xlsx'\n",
    "state_orders = 'Resources/Clean/Clean_EmergencyOrders.xlsx'\n",
    "wildfires = 'Resources/Raw/2020wildfires.xlsx'\n",
    "yoy_summary = 'Resources/Clean/Clean_YOY_MonthlyVisitors.xlsx'\n",
    "\n",
    "# Read data and store in dataframe\n",
    "attendance_data = pd.read_excel(visitors)\n",
    "park_info_data = pd.read_excel(park_info)\n",
    "emergency_orders_data = pd.read_excel(state_orders)\n",
    "wildfire_data = pd.read_excel(wildfires)\n"
   ]
  }
 ],
 "metadata": {
  "kernelspec": {
   "display_name": "Python 3",
   "language": "python",
   "name": "python3"
  },
  "language_info": {
   "codemirror_mode": {
    "name": "ipython",
    "version": 3
   },
   "file_extension": ".py",
   "mimetype": "text/x-python",
   "name": "python",
   "nbconvert_exporter": "python",
   "pygments_lexer": "ipython3",
   "version": "3.8.3"
  }
 },
 "nbformat": 4,
 "nbformat_minor": 4
}
