{
 "cells": [
  {
   "cell_type": "markdown",
   "metadata": {},
   "source": [
    "# Project One - Visualizations\n"
   ]
  },
  {
   "cell_type": "code",
   "execution_count": 21,
   "metadata": {},
   "outputs": [],
   "source": [
    "# Dependencies\n",
    "import pandas as pd\n",
    "import requests\n",
    "import json\n",
    "import os\n",
    "import datetime\n",
    "import matplotlib.pyplot as plt\n",
    "import numpy as np\n",
    "\n",
    "# Google API Key\n",
    "from config import gkey\n"
   ]
  },
  {
   "cell_type": "code",
   "execution_count": 22,
   "metadata": {},
   "outputs": [],
   "source": [
    "# Source files\n",
    "visitors = 'Resources/Clean/Clean_ParkData.xlsx'\n",
    "park_info = 'Resources/Clean/Clean_ParkGeocoordinates.xlsx'\n",
    "state_orders = 'Resources/Clean/Clean_EmergencyOrders.xlsx'\n",
    "wildfires = 'Resources/Raw/2020wildfires.xlsx'\n",
    "yoy_summary = 'Resources/Clean/Clean_YOY_MonthlyVisitors.xlsx'\n",
    "\n",
    "# Read data and store in dataframe\n",
    "attendance_data = pd.read_excel(visitors)\n",
    "park_info_data = pd.read_excel(park_info)\n",
    "emergency_orders_data = pd.read_excel(state_orders)\n",
    "wildfire_data = pd.read_excel(wildfires)\n"
   ]
  },
  {
   "cell_type": "code",
   "execution_count": 24,
   "metadata": {},
   "outputs": [
    {
     "ename": "KeyError",
     "evalue": "'Month'",
     "output_type": "error",
     "traceback": [
      "\u001b[0;31m---------------------------------------------------------------------------\u001b[0m",
      "\u001b[0;31mKeyError\u001b[0m                                  Traceback (most recent call last)",
      "\u001b[0;32m<ipython-input-24-b006feabbe97>\u001b[0m in \u001b[0;36m<module>\u001b[0;34m\u001b[0m\n\u001b[1;32m      1\u001b[0m \u001b[0;31m# Generate a bar plot for visitors by month\u001b[0m\u001b[0;34m\u001b[0m\u001b[0;34m\u001b[0m\u001b[0;34m\u001b[0m\u001b[0m\n\u001b[0;32m----> 2\u001b[0;31m \u001b[0mvisitors_group\u001b[0m \u001b[0;34m=\u001b[0m \u001b[0mpark_info_data\u001b[0m\u001b[0;34m.\u001b[0m\u001b[0mgroupby\u001b[0m\u001b[0;34m(\u001b[0m\u001b[0;34m'Month'\u001b[0m\u001b[0;34m)\u001b[0m\u001b[0;34m\u001b[0m\u001b[0;34m\u001b[0m\u001b[0m\n\u001b[0m\u001b[1;32m      3\u001b[0m \u001b[0mmeasures\u001b[0m \u001b[0;34m=\u001b[0m \u001b[0mpd\u001b[0m\u001b[0;34m.\u001b[0m\u001b[0mDataFrame\u001b[0m\u001b[0;34m(\u001b[0m\u001b[0margh_group\u001b[0m\u001b[0;34m[\u001b[0m\u001b[0;34m'Visitors'\u001b[0m\u001b[0;34m]\u001b[0m\u001b[0;34m.\u001b[0m\u001b[0msum\u001b[0m\u001b[0;34m(\u001b[0m\u001b[0;34m)\u001b[0m\u001b[0;34m)\u001b[0m\u001b[0;34m\u001b[0m\u001b[0;34m\u001b[0m\u001b[0m\n\u001b[1;32m      4\u001b[0m \u001b[0;34m\u001b[0m\u001b[0m\n\u001b[1;32m      5\u001b[0m \u001b[0mvisitors_chart\u001b[0m\u001b[0;34m=\u001b[0m\u001b[0mmeasures\u001b[0m\u001b[0;34m.\u001b[0m\u001b[0mplot\u001b[0m\u001b[0;34m(\u001b[0m\u001b[0mkind\u001b[0m\u001b[0;34m=\u001b[0m\u001b[0;34m'bar'\u001b[0m\u001b[0;34m,\u001b[0m \u001b[0mtitle\u001b[0m\u001b[0;34m=\u001b[0m\u001b[0;34m'National Park Visitors'\u001b[0m\u001b[0;34m,\u001b[0m \u001b[0mcolor\u001b[0m\u001b[0;34m=\u001b[0m\u001b[0;34m'navy'\u001b[0m\u001b[0;34m)\u001b[0m\u001b[0;34m\u001b[0m\u001b[0;34m\u001b[0m\u001b[0m\n",
      "\u001b[0;32m~/opt/anaconda3/lib/python3.8/site-packages/pandas/core/frame.py\u001b[0m in \u001b[0;36mgroupby\u001b[0;34m(self, by, axis, level, as_index, sort, group_keys, squeeze, observed)\u001b[0m\n\u001b[1;32m   5799\u001b[0m         \u001b[0maxis\u001b[0m \u001b[0;34m=\u001b[0m \u001b[0mself\u001b[0m\u001b[0;34m.\u001b[0m\u001b[0m_get_axis_number\u001b[0m\u001b[0;34m(\u001b[0m\u001b[0maxis\u001b[0m\u001b[0;34m)\u001b[0m\u001b[0;34m\u001b[0m\u001b[0;34m\u001b[0m\u001b[0m\n\u001b[1;32m   5800\u001b[0m \u001b[0;34m\u001b[0m\u001b[0m\n\u001b[0;32m-> 5801\u001b[0;31m         return groupby_generic.DataFrameGroupBy(\n\u001b[0m\u001b[1;32m   5802\u001b[0m             \u001b[0mobj\u001b[0m\u001b[0;34m=\u001b[0m\u001b[0mself\u001b[0m\u001b[0;34m,\u001b[0m\u001b[0;34m\u001b[0m\u001b[0;34m\u001b[0m\u001b[0m\n\u001b[1;32m   5803\u001b[0m             \u001b[0mkeys\u001b[0m\u001b[0;34m=\u001b[0m\u001b[0mby\u001b[0m\u001b[0;34m,\u001b[0m\u001b[0;34m\u001b[0m\u001b[0;34m\u001b[0m\u001b[0m\n",
      "\u001b[0;32m~/opt/anaconda3/lib/python3.8/site-packages/pandas/core/groupby/groupby.py\u001b[0m in \u001b[0;36m__init__\u001b[0;34m(self, obj, keys, axis, level, grouper, exclusions, selection, as_index, sort, group_keys, squeeze, observed, mutated)\u001b[0m\n\u001b[1;32m    401\u001b[0m             \u001b[0;32mfrom\u001b[0m \u001b[0mpandas\u001b[0m\u001b[0;34m.\u001b[0m\u001b[0mcore\u001b[0m\u001b[0;34m.\u001b[0m\u001b[0mgroupby\u001b[0m\u001b[0;34m.\u001b[0m\u001b[0mgrouper\u001b[0m \u001b[0;32mimport\u001b[0m \u001b[0mget_grouper\u001b[0m\u001b[0;34m\u001b[0m\u001b[0;34m\u001b[0m\u001b[0m\n\u001b[1;32m    402\u001b[0m \u001b[0;34m\u001b[0m\u001b[0m\n\u001b[0;32m--> 403\u001b[0;31m             grouper, exclusions, obj = get_grouper(\n\u001b[0m\u001b[1;32m    404\u001b[0m                 \u001b[0mobj\u001b[0m\u001b[0;34m,\u001b[0m\u001b[0;34m\u001b[0m\u001b[0;34m\u001b[0m\u001b[0m\n\u001b[1;32m    405\u001b[0m                 \u001b[0mkeys\u001b[0m\u001b[0;34m,\u001b[0m\u001b[0;34m\u001b[0m\u001b[0;34m\u001b[0m\u001b[0m\n",
      "\u001b[0;32m~/opt/anaconda3/lib/python3.8/site-packages/pandas/core/groupby/grouper.py\u001b[0m in \u001b[0;36mget_grouper\u001b[0;34m(obj, key, axis, level, sort, observed, mutated, validate)\u001b[0m\n\u001b[1;32m    598\u001b[0m                 \u001b[0min_axis\u001b[0m\u001b[0;34m,\u001b[0m \u001b[0mname\u001b[0m\u001b[0;34m,\u001b[0m \u001b[0mlevel\u001b[0m\u001b[0;34m,\u001b[0m \u001b[0mgpr\u001b[0m \u001b[0;34m=\u001b[0m \u001b[0;32mFalse\u001b[0m\u001b[0;34m,\u001b[0m \u001b[0;32mNone\u001b[0m\u001b[0;34m,\u001b[0m \u001b[0mgpr\u001b[0m\u001b[0;34m,\u001b[0m \u001b[0;32mNone\u001b[0m\u001b[0;34m\u001b[0m\u001b[0;34m\u001b[0m\u001b[0m\n\u001b[1;32m    599\u001b[0m             \u001b[0;32melse\u001b[0m\u001b[0;34m:\u001b[0m\u001b[0;34m\u001b[0m\u001b[0;34m\u001b[0m\u001b[0m\n\u001b[0;32m--> 600\u001b[0;31m                 \u001b[0;32mraise\u001b[0m \u001b[0mKeyError\u001b[0m\u001b[0;34m(\u001b[0m\u001b[0mgpr\u001b[0m\u001b[0;34m)\u001b[0m\u001b[0;34m\u001b[0m\u001b[0;34m\u001b[0m\u001b[0m\n\u001b[0m\u001b[1;32m    601\u001b[0m         \u001b[0;32melif\u001b[0m \u001b[0misinstance\u001b[0m\u001b[0;34m(\u001b[0m\u001b[0mgpr\u001b[0m\u001b[0;34m,\u001b[0m \u001b[0mGrouper\u001b[0m\u001b[0;34m)\u001b[0m \u001b[0;32mand\u001b[0m \u001b[0mgpr\u001b[0m\u001b[0;34m.\u001b[0m\u001b[0mkey\u001b[0m \u001b[0;32mis\u001b[0m \u001b[0;32mnot\u001b[0m \u001b[0;32mNone\u001b[0m\u001b[0;34m:\u001b[0m\u001b[0;34m\u001b[0m\u001b[0;34m\u001b[0m\u001b[0m\n\u001b[1;32m    602\u001b[0m             \u001b[0;31m# Add key to exclusions\u001b[0m\u001b[0;34m\u001b[0m\u001b[0;34m\u001b[0m\u001b[0;34m\u001b[0m\u001b[0m\n",
      "\u001b[0;31mKeyError\u001b[0m: 'Month'"
     ]
    }
   ],
   "source": [
    "# Generate a bar plot for visitors by month \n",
    "visitors_group = park_data.groupby('Month')\n",
    "measures = pd.DataFrame(argh_group['Visitors'].sum())\n",
    "\n",
    "visitors_chart=measures.plot(kind='bar', title='National Park Visitors', color='navy')\n",
    "\n",
    "visitors_chart.set_xlabel('Month')\n",
    "visitors_chart.set_ylabel('Total Visitors')\n",
    "\n",
    "plt.show()"
   ]
  },
  {
   "cell_type": "code",
   "execution_count": 25,
   "metadata": {},
   "outputs": [
    {
     "ename": "NameError",
     "evalue": "name 'emergency_orders' is not defined",
     "output_type": "error",
     "traceback": [
      "\u001b[0;31m---------------------------------------------------------------------------\u001b[0m",
      "\u001b[0;31mNameError\u001b[0m                                 Traceback (most recent call last)",
      "\u001b[0;32m<ipython-input-25-b3864363711a>\u001b[0m in \u001b[0;36m<module>\u001b[0;34m\u001b[0m\n\u001b[1;32m      1\u001b[0m \u001b[0;31m# Generate a bar plot for state orders\u001b[0m\u001b[0;34m\u001b[0m\u001b[0;34m\u001b[0m\u001b[0;34m\u001b[0m\u001b[0m\n\u001b[0;32m----> 2\u001b[0;31m \u001b[0mstate_orders_group\u001b[0m \u001b[0;34m=\u001b[0m \u001b[0memergency_orders\u001b[0m\u001b[0;34m.\u001b[0m\u001b[0mgroupby\u001b[0m\u001b[0;34m(\u001b[0m\u001b[0;34m'date'\u001b[0m\u001b[0;34m)\u001b[0m\u001b[0;34m\u001b[0m\u001b[0;34m\u001b[0m\u001b[0m\n\u001b[0m\u001b[1;32m      3\u001b[0m \u001b[0mmeasures\u001b[0m \u001b[0;34m=\u001b[0m \u001b[0mpd\u001b[0m\u001b[0;34m.\u001b[0m\u001b[0mDataFrame\u001b[0m\u001b[0;34m(\u001b[0m\u001b[0mugh_group\u001b[0m\u001b[0;34m[\u001b[0m\u001b[0;34m'state_id'\u001b[0m\u001b[0;34m]\u001b[0m\u001b[0;34m.\u001b[0m\u001b[0mcount\u001b[0m\u001b[0;34m(\u001b[0m\u001b[0;34m)\u001b[0m\u001b[0;34m)\u001b[0m\u001b[0;34m\u001b[0m\u001b[0;34m\u001b[0m\u001b[0m\n\u001b[1;32m      4\u001b[0m \u001b[0;34m\u001b[0m\u001b[0m\n\u001b[1;32m      5\u001b[0m \u001b[0mstate_order_chart\u001b[0m\u001b[0;34m=\u001b[0m\u001b[0mmeasures\u001b[0m\u001b[0;34m.\u001b[0m\u001b[0mplot\u001b[0m\u001b[0;34m(\u001b[0m\u001b[0mkind\u001b[0m\u001b[0;34m=\u001b[0m\u001b[0;34m'bar'\u001b[0m\u001b[0;34m,\u001b[0m \u001b[0mtitle\u001b[0m\u001b[0;34m=\u001b[0m\u001b[0;34m'State Emergency Orders'\u001b[0m\u001b[0;34m,\u001b[0m \u001b[0mcolor\u001b[0m\u001b[0;34m=\u001b[0m\u001b[0;34m'red'\u001b[0m\u001b[0;34m)\u001b[0m\u001b[0;34m\u001b[0m\u001b[0;34m\u001b[0m\u001b[0m\n",
      "\u001b[0;31mNameError\u001b[0m: name 'emergency_orders' is not defined"
     ]
    }
   ],
   "source": [
    "# Generate a bar plot for state orders \n",
    "state_orders_group = emergency_orders.groupby('date')\n",
    "measures = pd.DataFrame(ugh_group['state_id'].count())\n",
    "\n",
    "state_order_chart=measures.plot(kind='bar', title='State Emergency Orders', color='red')\n",
    "\n",
    "plt.show()"
   ]
  },
  {
   "cell_type": "code",
   "execution_count": 26,
   "metadata": {},
   "outputs": [
    {
     "ename": "NameError",
     "evalue": "name 'emergency_orders' is not defined",
     "output_type": "error",
     "traceback": [
      "\u001b[0;31m---------------------------------------------------------------------------\u001b[0m",
      "\u001b[0;31mNameError\u001b[0m                                 Traceback (most recent call last)",
      "\u001b[0;32m<ipython-input-26-66d2f23fc975>\u001b[0m in \u001b[0;36m<module>\u001b[0;34m\u001b[0m\n\u001b[0;32m----> 1\u001b[0;31m \u001b[0mstate_order_type\u001b[0m \u001b[0;34m=\u001b[0m \u001b[0memergency_orders\u001b[0m\u001b[0;34m.\u001b[0m\u001b[0mgroupby\u001b[0m\u001b[0;34m(\u001b[0m\u001b[0;34m[\u001b[0m\u001b[0;34m'date'\u001b[0m\u001b[0;34m,\u001b[0m \u001b[0;34m'policy_type'\u001b[0m\u001b[0;34m]\u001b[0m\u001b[0;34m)\u001b[0m\u001b[0;34m[\u001b[0m\u001b[0;34m'state_id'\u001b[0m\u001b[0;34m]\u001b[0m\u001b[0;34m.\u001b[0m\u001b[0mcount\u001b[0m\u001b[0;34m(\u001b[0m\u001b[0;34m)\u001b[0m\u001b[0;34m.\u001b[0m\u001b[0munstack\u001b[0m\u001b[0;34m(\u001b[0m\u001b[0;34m'policy_type'\u001b[0m\u001b[0;34m)\u001b[0m\u001b[0;34m.\u001b[0m\u001b[0mfillna\u001b[0m\u001b[0;34m(\u001b[0m\u001b[0;36m0\u001b[0m\u001b[0;34m)\u001b[0m\u001b[0;34m\u001b[0m\u001b[0;34m\u001b[0m\u001b[0m\n\u001b[0m\u001b[1;32m      2\u001b[0m \u001b[0mstate_order_type\u001b[0m\u001b[0;34m[\u001b[0m\u001b[0;34m[\u001b[0m\u001b[0;34m'Gyms'\u001b[0m\u001b[0;34m,\u001b[0m\u001b[0;34m'Non-Essential Businesses'\u001b[0m\u001b[0;34m,\u001b[0m \u001b[0;34m'Entertainment'\u001b[0m\u001b[0;34m]\u001b[0m\u001b[0;34m]\u001b[0m\u001b[0;34m.\u001b[0m\u001b[0mplot\u001b[0m\u001b[0;34m(\u001b[0m\u001b[0mkind\u001b[0m\u001b[0;34m=\u001b[0m\u001b[0;34m'bar'\u001b[0m\u001b[0;34m,\u001b[0m \u001b[0mstacked\u001b[0m\u001b[0;34m=\u001b[0m\u001b[0;32mTrue\u001b[0m\u001b[0;34m)\u001b[0m\u001b[0;34m\u001b[0m\u001b[0;34m\u001b[0m\u001b[0m\n\u001b[1;32m      3\u001b[0m \u001b[0mplt\u001b[0m\u001b[0;34m.\u001b[0m\u001b[0mshow\u001b[0m\u001b[0;34m(\u001b[0m\u001b[0;34m)\u001b[0m\u001b[0;34m\u001b[0m\u001b[0;34m\u001b[0m\u001b[0m\n",
      "\u001b[0;31mNameError\u001b[0m: name 'emergency_orders' is not defined"
     ]
    }
   ],
   "source": [
    "state_order_type = emergency_orders.groupby(['date', 'policy_type'])['state_id'].count().unstack('policy_type').fillna(0)\n",
    "state_order_type[['Gyms','Non-Essential Businesses', 'Entertainment']].plot(kind='bar', stacked=True)\n",
    "plt.show()"
   ]
  },
  {
   "cell_type": "code",
   "execution_count": 15,
   "metadata": {},
   "outputs": [
    {
     "data": {
      "text/html": [
       "<div>\n",
       "<style scoped>\n",
       "    .dataframe tbody tr th:only-of-type {\n",
       "        vertical-align: middle;\n",
       "    }\n",
       "\n",
       "    .dataframe tbody tr th {\n",
       "        vertical-align: top;\n",
       "    }\n",
       "\n",
       "    .dataframe thead th {\n",
       "        text-align: right;\n",
       "    }\n",
       "</style>\n",
       "<table border=\"1\" class=\"dataframe\">\n",
       "  <thead>\n",
       "    <tr style=\"text-align: right;\">\n",
       "      <th></th>\n",
       "      <th>CreateDate</th>\n",
       "    </tr>\n",
       "  </thead>\n",
       "  <tbody>\n",
       "    <tr>\n",
       "      <th>0</th>\n",
       "      <td>2020-07-01</td>\n",
       "    </tr>\n",
       "    <tr>\n",
       "      <th>1</th>\n",
       "      <td>2020-07-10</td>\n",
       "    </tr>\n",
       "    <tr>\n",
       "      <th>2</th>\n",
       "      <td>2020-07-10</td>\n",
       "    </tr>\n",
       "    <tr>\n",
       "      <th>3</th>\n",
       "      <td>2020-06-19</td>\n",
       "    </tr>\n",
       "    <tr>\n",
       "      <th>4</th>\n",
       "      <td>2020-07-10</td>\n",
       "    </tr>\n",
       "    <tr>\n",
       "      <th>...</th>\n",
       "      <td>...</td>\n",
       "    </tr>\n",
       "    <tr>\n",
       "      <th>1663</th>\n",
       "      <td>2020-12-15</td>\n",
       "    </tr>\n",
       "    <tr>\n",
       "      <th>1664</th>\n",
       "      <td>2020-12-15</td>\n",
       "    </tr>\n",
       "    <tr>\n",
       "      <th>1665</th>\n",
       "      <td>2020-11-17</td>\n",
       "    </tr>\n",
       "    <tr>\n",
       "      <th>1666</th>\n",
       "      <td>2020-08-01</td>\n",
       "    </tr>\n",
       "    <tr>\n",
       "      <th>1667</th>\n",
       "      <td>2020-12-16</td>\n",
       "    </tr>\n",
       "  </tbody>\n",
       "</table>\n",
       "<p>1668 rows × 1 columns</p>\n",
       "</div>"
      ],
      "text/plain": [
       "     CreateDate\n",
       "0    2020-07-01\n",
       "1    2020-07-10\n",
       "2    2020-07-10\n",
       "3    2020-06-19\n",
       "4    2020-07-10\n",
       "...         ...\n",
       "1663 2020-12-15\n",
       "1664 2020-12-15\n",
       "1665 2020-11-17\n",
       "1666 2020-08-01\n",
       "1667 2020-12-16\n",
       "\n",
       "[1668 rows x 1 columns]"
      ]
     },
     "execution_count": 15,
     "metadata": {},
     "output_type": "execute_result"
    }
   ],
   "source": [
    "#Clean wildfire data to include only incident dates\n",
    "new_df = wildfire_data.drop('IncidentName', 1)\n",
    "new_df"
   ]
  },
  {
   "cell_type": "code",
   "execution_count": 16,
   "metadata": {},
   "outputs": [
    {
     "name": "stdout",
     "output_type": "stream",
     "text": [
      "184 409 644 230 127 62 12\n"
     ]
    }
   ],
   "source": [
    "#Sort dates and separate info by month\n",
    "new_df['CreateDate'] = new_df['CreateDate'].apply(str)\n",
    "\n",
    "\n",
    "#months\n",
    "\n",
    "Jun = new_df[new_df['CreateDate'].str.contains(\"2020-06\")]\n",
    "Jul = new_df[new_df['CreateDate'].str.contains(\"2020-07\")]\n",
    "Augus = new_df[new_df['CreateDate'].str.contains(\"2020-08\")]\n",
    "Septembe = new_df[new_df['CreateDate'].str.contains(\"2020-09\")]\n",
    "Octobe = new_df[new_df['CreateDate'].str.contains(\"2020-10\")]\n",
    "Novembe = new_df[new_df['CreateDate'].str.contains(\"2020-11\")]\n",
    "Decembe = new_df[new_df['CreateDate'].str.contains(\"2020-12\")]\n",
    "\n",
    "#Count how many wildfires were recorded per month\n",
    "June = Jun.shape[0]\n",
    "July = Jul.shape[0]\n",
    "August = Augus.shape[0]\n",
    "September = Septembe.shape[0]\n",
    "October = Octobe.shape[0]\n",
    "November = Novembe.shape[0]\n",
    "December = Decembe.shape[0]\n",
    "\n",
    "print(June, July, August, September, October, November, December)"
   ]
  },
  {
   "cell_type": "code",
   "execution_count": 17,
   "metadata": {},
   "outputs": [
    {
     "data": {
      "image/png": "[encoded data removed]",
      "text/plain": [
       "<Figure size 432x288 with 1 Axes>"
      ]
     },
     "metadata": {
      "needs_background": "light"
     },
     "output_type": "display_data"
    }
   ],
   "source": [
    "#Plot and save as PNG\n",
    "months = [\"June\", \"July\", \"Aug\", \"Sept\", \"Oct\", \"Nov\", \"Dec\"]\n",
    "wildfires = [184, 409, 644, 230, 127, 62, 12]\n",
    "\n",
    "x_axis = np.arange(0, len(months))\n",
    "tick_locations = []\n",
    "for x in x_axis:\n",
    "    tick_locations.append(x)\n",
    "    \n",
    "plt.title(\"California Wildfires per Month\")\n",
    "plt.xlabel(\"Month\")\n",
    "plt.ylabel(\"Fires per Month\")\n",
    "\n",
    "plt.xlim(-1, len(months))\n",
    "plt.ylim(0, max(wildfires) +20)\n",
    "\n",
    "plt.bar(x_axis, wildfires, facecolor=\"red\", alpha=0.75, align=\"center\")\n",
    "plt.xticks(tick_locations, months)\n",
    "plt.savefig(\"/Users/laurelwilliamson/Desktop/GITHUB/group_project/califires_vis.png\")\n",
    "plt.show()"
   ]
  },
  {
   "cell_type": "code",
   "execution_count": 39,
   "metadata": {},
   "outputs": [
    {
     "data": {
      "image/png": "[encoded data removed]",
      "text/plain": [
       "<Figure size 432x288 with 1 Axes>"
      ]
     },
     "metadata": {
      "needs_background": "light"
     },
     "output_type": "display_data"
    }
   ],
   "source": [
    "# Limit dataframe to California & Florifa\n",
    "national_parks = park_info_data.loc[(park_info_data['ParkType']=='National Park')]\n",
    "focus_parks = pd.DataFrame(national_parks.loc[(park_info_data['State'] == 'CA') | (park_info_data['State'] == 'FL')])\n",
    "focus_parks.reset_index()\n",
    "\n",
    "#focus_parks['FullName'] = focus_parks['Park']\n",
    "\n",
    "# Create new 'FullName' column (empty)\n",
    "focus_parks['FullName'] = focus_parks['Park'].str.replace(['NP'],'')#+focus_parks['ParkType'])\n",
    "\n",
    "focus_parks['FullName']=focus_parks['Park'].str[:-2]+focus_parks['ParkType']\n",
    "\n",
    "#focus_parks['Park'].replace('NP', 'National Park', inplace=True)\n",
    "#focus_parks['Park'] = focus_parks['Park'].str.replace('NP','')\n",
    "\n",
    "focus_parks.head(20)\n",
    "\n",
    "# Find the geocoordinates (latitude and longitude)\n",
    "park = \"Yellowstone\"\n",
    "\n",
    "params = {\"address\": park, \"key\": gkey}\n",
    "\n",
    "# Build URL using the Google Maps API\n",
    "base_url = \"https://maps.googleapis.com/maps/api/geocode/json\"\n",
    "\n",
    "#print(\"Drill #1: The Geocoordinates of X\")\n",
    "\n",
    "# Run request\n",
    "response = requests.get(base_url, params=params)\n",
    "\n",
    "# print the response URL, avoid doing for public GitHub repos in order to avoid exposing key\n",
    "# print(response.url)\n",
    "\n",
    "# Convert to JSON\n",
    "park_geo = response.json()\n",
    "\n",
    "# Extract lat/lng\n",
    "lat = park_geo[\"results\"][0][\"geometry\"][\"location\"][\"lat\"]\n",
    "lng = park_geo[\"results\"][0][\"geometry\"][\"location\"][\"lng\"]\n",
    "\n",
    "\n",
    "# Build URL using the Google Maps API\n",
    "\n",
    "lats=[]\n",
    "longs=[]\n",
    "cost=[]\n",
    "\n",
    "base_url = \"https://maps.googleapis.com/maps/api/geocode/json\"\n",
    "\n",
    "for Park in focus_parks['FullName']:\n",
    "    params = {\"address\": Park, \"key\": gkey}\n",
    "    response = requests.get(base_url, params=params)\n",
    "    park_geo = response.json()\n",
    "    lats.append(park_geo[\"results\"][0][\"geometry\"][\"location\"][\"lat\"])\n",
    "    longs.append(park_geo[\"results\"][0][\"geometry\"][\"location\"][\"lng\"])           \n",
    "\n",
    "# Add geocoordinates to dataframe\n",
    "focus_parks['Latitude']=lats\n",
    "focus_parks['Longitude']=longs\n",
    "focus_parks.head()\n",
    "\n",
    "# Combine the data into a single dataframe  \n",
    "park_data = pd.merge(focus_parks, attendance_data, how=\"left\", on=[\"Park\", \"Park\"])\n",
    "park_data.head()\n",
    "\n",
    "park_data['Calendar Year'] = pd.DatetimeIndex(park_data['Month']).year\n",
    "park_data['Calendar Month'] = pd.DatetimeIndex(park_data['Month']).month\n",
    "park_data.head(50)\n",
    "\n",
    "# Split up our data into groups based upon 'bikeid' and 'gender'\n",
    "year_groups = park_data.groupby(['Calendar Year','Calendar Month'])\n",
    "\n",
    "# Create a new variable that holds the sum of our groups\n",
    "sum_it_up = year_groups.sum()\n",
    "sum_it_up.head(50)\n",
    "\n",
    "# Generate a summary statistics table of mean, median, variance, standard deviation, and SEM of the visutors for each calendar year\n",
    "# Use groupby and summary statistical methods to calculate the following properties of each drug regimen: \n",
    "# mean, median, variance, standard deviation, and SEM of the tumor volume. \n",
    "\n",
    "\n",
    "mean = park_data.groupby('Calendar Month').mean()['Visitors']\n",
    "median = park_data.groupby('Calendar Month').median()['Visitors']\n",
    "variance = park_data.groupby('Calendar Month').var()['Visitors']\n",
    "std_dev = park_data.groupby('Calendar Month').std()['Visitors']\n",
    "SEM = park_data.groupby('Calendar Month').sem()['Visitors']\n",
    "\n",
    "# Assemble the resulting series into a single summary dataframe.\n",
    "park_stats = pd.DataFrame({'Mean': mean,\n",
    "              'Median':median,\n",
    "              'Variance': variance,\n",
    "              'Standard Deviation': std_dev,\n",
    "                         'SEM':SEM})\n",
    "park_stats.head(12)\n",
    "\n",
    "summary_stats= park_data.groupby('Park').agg({'Visitors':['mean','median','var','std','sem']})\n",
    "\n",
    "sum_it_up.plot.area()\n",
    "#plt.savefig(\"/Users/laurelwilliamson/Desktop/GITHUB/group_project/visitor_areaplot_vis.png\")\n",
    "plt.show()"
   ]
  },
  {
   "cell_type": "code",
   "execution_count": null,
   "metadata": {},
   "outputs": [],
   "source": []
  },
  {
   "cell_type": "code",
   "execution_count": null,
   "metadata": {},
   "outputs": [],
   "source": []
  }
 ],
 "metadata": {
  "kernelspec": {
   "display_name": "Python 3",
   "language": "python",
   "name": "python3"
  },
  "language_info": {
   "codemirror_mode": {
    "name": "ipython",
    "version": 3
   },
   "file_extension": ".py",
   "mimetype": "text/x-python",
   "name": "python",
   "nbconvert_exporter": "python",
   "pygments_lexer": "ipython3",
   "version": "3.8.3"
  }
 },
 "nbformat": 4,
 "nbformat_minor": 4
}
